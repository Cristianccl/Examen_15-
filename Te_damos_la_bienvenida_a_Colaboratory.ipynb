{
  "cells": [
    {
      "cell_type": "markdown",
      "metadata": {
        "id": "view-in-github",
        "colab_type": "text"
      },
      "source": [
        "<a href=\"https://colab.research.google.com/github/Cristianccl/Examen_15-/blob/main/Te_damos_la_bienvenida_a_Colaboratory.ipynb\" target=\"_parent\"><img src=\"https://colab.research.google.com/assets/colab-badge.svg\" alt=\"Open In Colab\"/></a>"
      ]
    },
    {
      "cell_type": "markdown",
      "source": [
        "#FUNDAMENTOS_A_PROGRAMACION\n",
        "#ESTRUCTURA SELECTIVAS\n",
        "#CRISTIAN CORDERO__SEBASTIAN MADERA\n",
        "\n",
        "#ccamilocl0507@gmail.com\n",
        "#smadera874@gmail.com\n",
        "\n",
        "#03/10/25"
      ],
      "metadata": {
        "id": "Fae8NuIBka7L"
      }
    },
    {
      "cell_type": "markdown",
      "source": [
        "try:\n",
        "    day_number = int(input(\"porfavor inserte un numero del 1 al 7 : \"))\n",
        "\n",
        "    dias_de_semana = {\n",
        "        1: \"lunes\",\n",
        "        2: \"martes\",\n",
        "        3: \"miercoles\",\n",
        "        4: \"jueves\",\n",
        "        5: \"viernes\",\n",
        "        6: \"sabado\",\n",
        "        7: \"domingo\"\n",
        "    }\n",
        "\n",
        "    if 1 <= day_number <= 7:\n",
        "        print(days_of_week[day_number])\n",
        "    else:\n",
        "        print(\"Error: el numero no encontrado :/.\")\n",
        "\n",
        "except ValueError:\n",
        "    print(\"Invalid input. Please enter an integer.\")"
      ],
      "metadata": {
        "id": "_qSUTpX6mliJ"
      }
    },
    {
      "cell_type": "code",
      "metadata": {
        "colab": {
          "base_uri": "https://localhost:8080/"
        },
        "id": "cc60b96f",
        "outputId": "31233308-a225-4586-ccc5-42316f521e12"
      },
      "source": [
        "try:\n",
        "    day_number = int(input(\"porfavor inserte un numero del 1 al 7 : \"))\n",
        "\n",
        "    dias_de_semana = {\n",
        "        1: \"lunes\",\n",
        "        2: \"martes\",\n",
        "        3: \"miercoles\",\n",
        "        4: \"jueves\",\n",
        "        5: \"viernes\",\n",
        "        6: \"sabado\",\n",
        "        7: \"domingo\"\n",
        "    }\n",
        "\n",
        "    if 1 <= day_number <= 7:\n",
        "        print(days_of_week[day_number])\n",
        "    else:\n",
        "        print(\"Error: el numero no encontrado :/.\")\n",
        "\n",
        "except ValueError:\n",
        "    print(\"Entrada no válida. Por favor, introduzca un número entero..\")"
      ],
      "execution_count": 21,
      "outputs": [
        {
          "output_type": "stream",
          "name": "stdout",
          "text": [
            "porfavor inserte un numero del 1 al 7 : 5\n",
            "viernes\n"
          ]
        }
      ]
    },
    {
      "cell_type": "markdown",
      "source": [
        "try:\n",
        "    distance_meters = float(input(\"introducir la distancia en metros: \"))\n",
        "    tiempo_segundos = float(input(\"introducir tiempo en segundos: \"))\n",
        "\n",
        "    if time_seconds <= 0:\n",
        "        print(\"Error: el tiempo debe de ser mayor a 0 .\")\n",
        "    else:\n",
        "        # calcular la velocidad en metros por segundo\n",
        "        speed_mps = distancia_metros / tiempo_segundos\n",
        "\n",
        "        #  Convertir la velocidad a kilómetros por hora\n",
        "        # 1 km = 1000 m, 1 hora = 3600 segundos\n",
        "        # m/s * (1 km / 1000 m) * (3600 s / 1 hour) = km/h\n",
        "      velocidad_kmph = velocidad_mps * (3600 / 1000)\n",
        "\n",
        "        print(f\"La velocidad calculada es: {velocidad_kmph:.2f} km/h\")\")\n",
        "\n",
        "        if velocidad_kmph > 120:\n",
        "            print(\"el vehiculo va rapido.\")\n",
        "        if velocidad_kmph < 120:\n",
        "            print(\"el vehiculo va lento.\")\n",
        "\n",
        "except ValueError:\n",
        "    print(\"por favor ingrese un valor correspondinte .\")"
      ],
      "metadata": {
        "id": "GYkh4IXhpvHA"
      }
    },
    {
      "cell_type": "code",
      "source": [
        "try:\n",
        "    distance_meters = float(input(\"introducir la distancia en metros: \"))\n",
        "    tiempo_segundos = float(input(\"introducir tiempo en segundos: \"))\n",
        "\n",
        "    if tiempo_segundos <= 0:\n",
        "        print(\"Error: el tiempo debe de ser mayor a 0 .\")\n",
        "    else:\n",
        "        # calcular la velocidad en metros por segundo\n",
        "        speed_mps = distance_meters / tiempo_segundos\n",
        "\n",
        "        #  Convertir la velocidad a kilómetros por hora\n",
        "        # 1 km = 1000 m, 1 hora = 3600 segundos\n",
        "        # m/s * (1 km / 1000 m) * (3600 s / 1 hour) = km/h\n",
        "        velocidad_kmph = speed_mps * (3600 / 1000)\n",
        "\n",
        "        print(f\"La velocidad calculada es: {velocidad_kmph:.2f} km/h\")\n",
        "\n",
        "        if velocidad_kmph > 120:\n",
        "            print(\"el vehiculo va rapido.\")\n",
        "        elif velocidad_kmph < 20:\n",
        "            print(\"el vehiculo va lento.\")\n",
        "\n",
        "except ValueError:\n",
        "    print(\"invalido por favor ingrese un valor de tiempo y distancias correspondintes.\")"
      ],
      "metadata": {
        "colab": {
          "base_uri": "https://localhost:8080/"
        },
        "id": "AbMyjc-zsDL2",
        "outputId": "f8f71c5f-654a-4bfa-9d36-bc4cc1f39740"
      },
      "execution_count": 13,
      "outputs": [
        {
          "output_type": "stream",
          "name": "stdout",
          "text": [
            "introducir la distancia en metros: 130\n",
            "introducir tiempo en segundos: 2\n",
            "La velocidad calculada es: 234.00 km/h\n",
            "el vehiculo va rapido.\n"
          ]
        }
      ]
    },
    {
      "cell_type": "markdown",
      "source": [
        "try:\n",
        "    num_cans = int(input(\"Ingrese la cantidad de latas de grava que desea comprar: \"))\n",
        "except ValueError:\n",
        "    print(\"Entrada no válida. Por favor, ingrese un número entero para la cantidad de latas.\")\n",
        "    \n",
        "    num_cans = None # Establezca num_cans en None para indicar una entrada no válida"
      ],
      "metadata": {
        "id": "ZBkcVV7ttlY7"
      }
    },
    {
      "cell_type": "code",
      "source": [
        "try:\n",
        "    num_cans = int(input(\"Ingrese la cantidad de latas de grava que desea comprar: \"))\n",
        "except ValueError:\n",
        "    print(\"Entrada no válida. Por favor, ingrese un número entero para la cantidad de latas.\")\n",
        "    num_cans = None # Establezca num_cans en None para indicar una entrada no válida"
      ],
      "metadata": {
        "colab": {
          "base_uri": "https://localhost:8080/"
        },
        "id": "7NUjaaE-tUIL",
        "outputId": "52919f3b-26f6-4883-99df-ffb48de05a58"
      },
      "execution_count": 19,
      "outputs": [
        {
          "output_type": "stream",
          "name": "stdout",
          "text": [
            "Ingrese la cantidad de latas de grava que desea comprar: 36.8\n",
            "Entrada no válida. Por favor, ingrese un número entero para la cantidad de latas.\n"
          ]
        }
      ]
    }
  ],
  "metadata": {
    "colab": {
      "name": "Te damos la bienvenida a Colaboratory",
      "toc_visible": true,
      "provenance": [],
      "include_colab_link": true
    },
    "kernelspec": {
      "display_name": "Python 3",
      "name": "python3"
    }
  },
  "nbformat": 4,
  "nbformat_minor": 0
}